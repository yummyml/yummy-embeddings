{
 "cells": [
  {
   "cell_type": "code",
   "execution_count": 1,
   "metadata": {
    "slideshow": {
     "slide_type": "skip"
    }
   },
   "outputs": [
    {
     "name": "stdout",
     "output_type": "stream",
     "text": [
      "/home/jovyan/notebooks\n"
     ]
    },
    {
     "data": {
      "text/html": [
       "\n",
       "<link rel=\"stylesheet\" type=\"text/css\" href=\"//fonts.googleapis.com/css?family=Bangers\" />\n",
       "<style>\n",
       "h1 {font-family: Bangers !important; font-size: 150px !important}\n",
       "h2 {font-family: Bangers !important; font-size: 120px !important}\n",
       "h3 {font-family: Bangers !important; font-size: 100px !important}\n",
       "h4 {font-family: Bangers !important; font-size: 80px !important}\n",
       "h5 {font-family: Bangers !important; font-size: 50px !important}\n",
       "h6 {font-family: Bangers !important; font-size: 30px !important}\n",
       ".txt7 {font-family: Bangers !important; font-size: 70px !important}\n",
       ".txt6 {font-family: Bangers !important; font-size: 60px !important}\n",
       ".txt5 {font-family: Bangers !important; font-size: 50px !important}\n",
       ".txt4 {font-family: Bangers !important; font-size: 40px !important}\n",
       ".txt3 {font-family: Bangers !important; font-size: 30px !important}\n",
       ".cap {font-family: Bangers !important; font-size: 30px !important}\n",
       ".controls\n",
       "{\n",
       "    display: none !important;\n",
       "}\n",
       "\n",
       ".slide-number\n",
       "{\n",
       "    display: none !important;\n",
       "}\n",
       ".inline-block {\n",
       "   display: inline-block;\n",
       "}\n",
       "</style>\n"
      ],
      "text/plain": [
       "<IPython.core.display.HTML object>"
      ]
     },
     "execution_count": 1,
     "metadata": {},
     "output_type": "execute_result"
    }
   ],
   "source": [
    "%cd /home/jovyan/notebooks/\n",
    "from IPython.core.display import HTML\n",
    "HTML(\"\"\"\n",
    "<link rel=\"stylesheet\" type=\"text/css\" href=\"//fonts.googleapis.com/css?family=Bangers\" />\n",
    "<style>\n",
    "h1 {font-family: Bangers !important; font-size: 150px !important}\n",
    "h2 {font-family: Bangers !important; font-size: 120px !important}\n",
    "h3 {font-family: Bangers !important; font-size: 100px !important}\n",
    "h4 {font-family: Bangers !important; font-size: 80px !important}\n",
    "h5 {font-family: Bangers !important; font-size: 50px !important}\n",
    "h6 {font-family: Bangers !important; font-size: 30px !important}\n",
    ".txt7 {font-family: Bangers !important; font-size: 70px !important}\n",
    ".txt6 {font-family: Bangers !important; font-size: 60px !important}\n",
    ".txt5 {font-family: Bangers !important; font-size: 50px !important}\n",
    ".txt4 {font-family: Bangers !important; font-size: 40px !important}\n",
    ".txt3 {font-family: Bangers !important; font-size: 30px !important}\n",
    ".cap {font-family: Bangers !important; font-size: 30px !important}\n",
    ".controls\n",
    "{\n",
    "    display: none !important;\n",
    "}\n",
    "\n",
    ".slide-number\n",
    "{\n",
    "    display: none !important;\n",
    "}\n",
    ".inline-block {\n",
    "   display: inline-block;\n",
    "}\n",
    "</style>\n",
    "\"\"\")"
   ]
  },
  {
   "cell_type": "code",
   "execution_count": null,
   "metadata": {
    "slideshow": {
     "slide_type": "slide"
    }
   },
   "outputs": [],
   "source": [
    "!pip install yummy[polars] cleora==1.2.3 s3fs boto3 scikit-learn"
   ]
  },
  {
   "cell_type": "markdown",
   "metadata": {
    "slideshow": {
     "slide_type": "slide"
    }
   },
   "source": [
    "#### Minio:"
   ]
  },
  {
   "cell_type": "markdown",
   "metadata": {},
   "source": [
    "```bash\n",
    "docker run --rm -it -p 9000:9000 \\\n",
    " -p 9001:9001 --name minio \\\n",
    " -v $(pwd)/minio-data:/data \\\n",
    " --network app_default \\\n",
    " minio/minio server /data --console-address \":9001\"\n",
    "```"
   ]
  },
  {
   "cell_type": "code",
   "execution_count": 2,
   "metadata": {
    "slideshow": {
     "slide_type": "slide"
    }
   },
   "outputs": [
    {
     "data": {
      "text/plain": [
       "s3.Bucket(name='data')"
      ]
     },
     "execution_count": 2,
     "metadata": {},
     "output_type": "execute_result"
    }
   ],
   "source": [
    "import os \n",
    "import boto3\n",
    "from botocore.client import Config\n",
    "import numpy as np\n",
    "import random\n",
    "\n",
    "random.seed(0)\n",
    "np.random.seed(0)\n",
    "\n",
    "os.environ[\"AWS_ACCESS_KEY_ID\"]= \"minioadmin\"\n",
    "os.environ[\"AWS_SECRET_ACCESS_KEY\"]= \"minioadmin\"\n",
    "os.environ[\"FEAST_S3_ENDPOINT_URL\"]=\"http://minio:9000\"\n",
    "os.environ[\"S3_ENDPOINT_URL\"]= \"http://minio:9000\"\n",
    "\n",
    "s3 = boto3.resource('s3', endpoint_url='http://minio:9000')\n",
    "s3.create_bucket(Bucket=\"input\")\n",
    "s3.create_bucket(Bucket=\"output\")\n",
    "s3.create_bucket(Bucket=\"data\")"
   ]
  },
  {
   "cell_type": "markdown",
   "metadata": {
    "slideshow": {
     "slide_type": "slide"
    }
   },
   "source": [
    "#### Facebook Large Page-Page Network "
   ]
  },
  {
   "cell_type": "code",
   "execution_count": 3,
   "metadata": {
    "slideshow": {
     "slide_type": "-"
    }
   },
   "outputs": [
    {
     "name": "stdout",
     "output_type": "stream",
     "text": [
      "/home/jovyan/notebooks\n",
      "  % Total    % Received % Xferd  Average Speed   Time    Time     Time  Current\n",
      "                                 Dload  Upload   Total   Spent    Left  Speed\n",
      "100 1696k  100 1696k    0     0   288k      0  0:00:05  0:00:05 --:--:--  376k\n",
      "Archive:  facebook_large.zip\n",
      "   creating: facebook_large/\n",
      "  inflating: facebook_large/musae_facebook_edges.csv  \n",
      "  inflating: facebook_large/musae_facebook_features.json  \n",
      "  inflating: facebook_large/musae_facebook_target.csv  \n",
      "  inflating: facebook_large/citing.txt  \n",
      "  inflating: facebook_large/README.txt  \n"
     ]
    }
   ],
   "source": [
    "%cd /home/jovyan/notebooks\n",
    "!curl -LO https://snap.stanford.edu/data/facebook_large.zip\n",
    "!unzip facebook_large.zip"
   ]
  },
  {
   "cell_type": "markdown",
   "metadata": {
    "slideshow": {
     "slide_type": "slide"
    }
   },
   "source": [
    "#### Prepare clique and star expansion input files"
   ]
  },
  {
   "cell_type": "code",
   "execution_count": 4,
   "metadata": {
    "slideshow": {
     "slide_type": "-"
    }
   },
   "outputs": [],
   "source": [
    "# based on: https://github.com/Synerise/cleora/blob/master/example_classification.ipynb\n",
    "import pandas as pd\n",
    "import s3fs\n",
    "from sklearn.model_selection import train_test_split\n",
    "\n",
    "df_cleora = pd.read_csv(\"./facebook_large/musae_facebook_edges.csv\")\n",
    "train_cleora, test_cleora = train_test_split(df_cleora, test_size=0.2)\n",
    "\n",
    "fb_cleora_input_clique_filename = \"s3://input/fb_cleora_input_clique.txt\"\n",
    "fb_cleora_input_star_filename = \"s3://input/fb_cleora_input_star.txt\"\n",
    "\n",
    "fs = s3fs.S3FileSystem(client_kwargs={'endpoint_url': \"http://minio:9000\"})\n",
    "\n",
    "with fs.open(fb_cleora_input_clique_filename, \"w\") as f_cleora_clique, fs.open(fb_cleora_input_star_filename, \"w\") as f_cleora_star:\n",
    "    grouped_train = train_cleora.groupby('id_1')\n",
    "    for n, (name, group) in enumerate(grouped_train):\n",
    "        group_list = group['id_2'].tolist()\n",
    "        group_elems = list(map(str, group_list))\n",
    "        f_cleora_clique.write(\"{} {}\\n\".format(name, ' '.join(group_elems)))\n",
    "        f_cleora_star.write(\"{}\\t{}\\n\".format(n, name))\n",
    "        for elem in group_elems:\n",
    "            f_cleora_star.write(\"{}\\t{}\\n\".format(n, elem))"
   ]
  },
  {
   "cell_type": "markdown",
   "metadata": {
    "slideshow": {
     "slide_type": "slide"
    }
   },
   "source": [
    "#### Cleora star expansion training"
   ]
  },
  {
   "cell_type": "code",
   "execution_count": 5,
   "metadata": {},
   "outputs": [
    {
     "name": "stdout",
     "output_type": "stream",
     "text": [
      "--- 2.242182493209839 seconds ---\n"
     ]
    },
    {
     "name": "stderr",
     "output_type": "stream",
     "text": [
      "[src/pipeline.rs:28] &sparse_matrices = [\n",
      "    SparseMatrix {\n",
      "        col_a_id: 0,\n",
      "        col_a_name: \"cluster_id\",\n",
      "        col_b_id: 1,\n",
      "        col_b_name: \"StarNode\",\n",
      "        edge_count: 0,\n",
      "        hash_2_id: {},\n",
      "        id_2_hash: [],\n",
      "        row_sum: [],\n",
      "        pair_index: {},\n",
      "        entries: [],\n",
      "    },\n",
      "]\n"
     ]
    }
   ],
   "source": [
    "import time\n",
    "import cleora\n",
    "output_dir = 's3://output'\n",
    "fb_cleora_input_star_filename = \"s3://input/fb_cleora_input_star.txt\"\n",
    "\n",
    "start_time = time.time()\n",
    "cleora.run(\n",
    "    input=[fb_cleora_input_star_filename],\n",
    "    type_name=\"tsv\",\n",
    "    dimension=1024,\n",
    "    max_iter=5,\n",
    "    seed=None,\n",
    "    prepend_field=False,\n",
    "    log_every=1000,\n",
    "    in_memory_embedding_calculation=True,\n",
    "    cols_str=\"transient::cluster_id StarNode\",\n",
    "    output_dir=output_dir,\n",
    "    output_format=\"parquet\",\n",
    "    relation_name=\"emb\",\n",
    "    chunk_size=3000,\n",
    ")\n",
    "print(\"--- %s seconds ---\" % (time.time() - start_time))"
   ]
  },
  {
   "cell_type": "markdown",
   "metadata": {
    "slideshow": {
     "slide_type": "slide"
    }
   },
   "source": [
    "#### Cleora clique expansion training"
   ]
  },
  {
   "cell_type": "code",
   "execution_count": 6,
   "metadata": {},
   "outputs": [
    {
     "name": "stdout",
     "output_type": "stream",
     "text": [
      "--- 5.415393590927124 seconds ---\n"
     ]
    },
    {
     "name": "stderr",
     "output_type": "stream",
     "text": [
      "[src/pipeline.rs:28] &sparse_matrices = [\n",
      "    SparseMatrix {\n",
      "        col_a_id: 0,\n",
      "        col_a_name: \"CliqueNode\",\n",
      "        col_b_id: 1,\n",
      "        col_b_name: \"CliqueNode\",\n",
      "        edge_count: 0,\n",
      "        hash_2_id: {},\n",
      "        id_2_hash: [],\n",
      "        row_sum: [],\n",
      "        pair_index: {},\n",
      "        entries: [],\n",
      "    },\n",
      "]\n"
     ]
    }
   ],
   "source": [
    "fb_cleora_input_clique_filename = \"s3://input/fb_cleora_input_clique.txt\"\n",
    "start_time = time.time()\n",
    "\n",
    "cleora.run(\n",
    "    input=[fb_cleora_input_clique_filename],\n",
    "    type_name=\"tsv\",\n",
    "    dimension=1024,\n",
    "    max_iter=5,\n",
    "    seed=None,\n",
    "    prepend_field=False,\n",
    "    log_every=1000,\n",
    "    in_memory_embedding_calculation=True,\n",
    "    cols_str=\"complex::reflexive::CliqueNode\",\n",
    "    output_dir=output_dir,\n",
    "    output_format=\"parquet\",\n",
    "    relation_name=\"emb\",\n",
    "    chunk_size=3000,\n",
    ")\n",
    "print(\"--- %s seconds ---\" % (time.time() - start_time))"
   ]
  },
  {
   "cell_type": "markdown",
   "metadata": {
    "slideshow": {
     "slide_type": "slide"
    }
   },
   "source": [
    "## Feast configuration"
   ]
  },
  {
   "cell_type": "code",
   "execution_count": 9,
   "metadata": {
    "slideshow": {
     "slide_type": "-"
    }
   },
   "outputs": [
    {
     "name": "stdout",
     "output_type": "stream",
     "text": [
      "/home/jovyan/notebooks\n",
      "/home/jovyan/notebooks/feature_store\n"
     ]
    }
   ],
   "source": [
    "%cd /home/jovyan/notebooks/\n",
    "!rm -r feature_store\n",
    "!mkdir feature_store\n",
    "%cd /home/jovyan/notebooks/feature_store"
   ]
  },
  {
   "cell_type": "code",
   "execution_count": 10,
   "metadata": {
    "slideshow": {
     "slide_type": "-"
    }
   },
   "outputs": [
    {
     "name": "stdout",
     "output_type": "stream",
     "text": [
      "Writing ./feature_store.yaml\n"
     ]
    }
   ],
   "source": [
    "%%writefile ./feature_store.yaml\n",
    "project: repo\n",
    "registry: s3://data/registry.db\n",
    "provider: yummy.YummyProvider\n",
    "backend: polars\n",
    "online_store:\n",
    "    type: sqlite\n",
    "    path: data/online_store.db\n",
    "offline_store:\n",
    "    type: yummy.YummyOfflineStore"
   ]
  },
  {
   "cell_type": "code",
   "execution_count": 11,
   "metadata": {
    "slideshow": {
     "slide_type": "slide"
    }
   },
   "outputs": [
    {
     "name": "stdout",
     "output_type": "stream",
     "text": [
      "Writing ./features.py\n"
     ]
    }
   ],
   "source": [
    "%%writefile ./features.py\n",
    "from datetime import timedelta\n",
    "from feast import Entity, Field, FeatureView\n",
    "from yummy import ParquetSource\n",
    "from feast.types import Float32, Int32\n",
    "\n",
    "my_stats_parquet = ParquetSource(\n",
    "    name=\"my_stats\",\n",
    "    path=\"s3://output/emb__CliqueNode__CliqueNode_*.parquet\",\n",
    "    timestamp_field=\"datetime\",\n",
    "    s3_endpoint_override=\"http://minio:9000\",\n",
    ")\n",
    "\n",
    "my_entity = Entity(name=\"entity\", description=\"entity\",)\n",
    "\n",
    "schema = [Field(name=\"entity\", dtype=Int32)] + [Field(name=f\"f{i}\", dtype=Float32) for i in range(0,1024)]\n",
    "\n",
    "mystats_view_parquet = FeatureView(\n",
    "    name=\"my_statistics_parquet\",\n",
    "    entities=[my_entity],\n",
    "    ttl=timedelta(seconds=3600*24*20),\n",
    "    schema=schema,\n",
    "    online=True, source=my_stats_parquet, tags={},)"
   ]
  },
  {
   "cell_type": "code",
   "execution_count": 12,
   "metadata": {
    "slideshow": {
     "slide_type": "slide"
    }
   },
   "outputs": [
    {
     "name": "stdout",
     "output_type": "stream",
     "text": [
      "09/10/2022 08:42:31 PM botocore.credentials INFO: Found credentials in environment variables.\n",
      "Created entity \u001b[1m\u001b[32mentity\u001b[0m\n",
      "Created feature view \u001b[1m\u001b[32mmy_statistics_parquet\u001b[0m\n",
      "\n",
      "Deploying infrastructure for \u001b[1m\u001b[32mmy_statistics_parquet\u001b[0m\n"
     ]
    }
   ],
   "source": [
    "!feast apply"
   ]
  },
  {
   "cell_type": "code",
   "execution_count": 13,
   "metadata": {
    "slideshow": {
     "slide_type": "slide"
    }
   },
   "outputs": [
    {
     "name": "stdout",
     "output_type": "stream",
     "text": [
      "/home/jovyan/notebooks/feature_store\n",
      "I will use polars backend\n",
      "--- 0.598198413848877 seconds ---\n"
     ]
    },
    {
     "data": {
      "text/html": [
       "<div>\n",
       "<style scoped>\n",
       "    .dataframe tbody tr th:only-of-type {\n",
       "        vertical-align: middle;\n",
       "    }\n",
       "\n",
       "    .dataframe tbody tr th {\n",
       "        vertical-align: top;\n",
       "    }\n",
       "\n",
       "    .dataframe thead th {\n",
       "        text-align: right;\n",
       "    }\n",
       "</style>\n",
       "<table border=\"1\" class=\"dataframe\">\n",
       "  <thead>\n",
       "    <tr style=\"text-align: right;\">\n",
       "      <th></th>\n",
       "      <th>entity</th>\n",
       "      <th>f0</th>\n",
       "      <th>f1</th>\n",
       "      <th>f2</th>\n",
       "      <th>f3</th>\n",
       "      <th>f4</th>\n",
       "      <th>f5</th>\n",
       "      <th>f6</th>\n",
       "      <th>f7</th>\n",
       "      <th>f8</th>\n",
       "      <th>...</th>\n",
       "      <th>f1015</th>\n",
       "      <th>f1016</th>\n",
       "      <th>f1017</th>\n",
       "      <th>f1018</th>\n",
       "      <th>f1019</th>\n",
       "      <th>f1020</th>\n",
       "      <th>f1021</th>\n",
       "      <th>f1022</th>\n",
       "      <th>f1023</th>\n",
       "      <th>event_timestamp</th>\n",
       "    </tr>\n",
       "  </thead>\n",
       "  <tbody>\n",
       "    <tr>\n",
       "      <th>0</th>\n",
       "      <td>1</td>\n",
       "      <td>0.031914</td>\n",
       "      <td>-0.024654</td>\n",
       "      <td>0.016778</td>\n",
       "      <td>-0.018360</td>\n",
       "      <td>0.008336</td>\n",
       "      <td>-0.033789</td>\n",
       "      <td>-0.019724</td>\n",
       "      <td>-0.014500</td>\n",
       "      <td>-0.000028</td>\n",
       "      <td>...</td>\n",
       "      <td>-0.039011</td>\n",
       "      <td>-0.050917</td>\n",
       "      <td>0.053287</td>\n",
       "      <td>0.004578</td>\n",
       "      <td>0.056824</td>\n",
       "      <td>0.011253</td>\n",
       "      <td>0.014677</td>\n",
       "      <td>0.018925</td>\n",
       "      <td>0.009567</td>\n",
       "      <td>2022-09-14 23:59:42</td>\n",
       "    </tr>\n",
       "    <tr>\n",
       "      <th>1</th>\n",
       "      <td>16260</td>\n",
       "      <td>0.038295</td>\n",
       "      <td>-0.026572</td>\n",
       "      <td>0.011134</td>\n",
       "      <td>-0.018693</td>\n",
       "      <td>-0.027163</td>\n",
       "      <td>-0.001185</td>\n",
       "      <td>0.006900</td>\n",
       "      <td>-0.018135</td>\n",
       "      <td>0.014393</td>\n",
       "      <td>...</td>\n",
       "      <td>-0.045695</td>\n",
       "      <td>-0.068719</td>\n",
       "      <td>0.017536</td>\n",
       "      <td>0.007945</td>\n",
       "      <td>0.035621</td>\n",
       "      <td>0.006835</td>\n",
       "      <td>0.049093</td>\n",
       "      <td>0.039646</td>\n",
       "      <td>0.002602</td>\n",
       "      <td>2022-09-14 23:59:42</td>\n",
       "    </tr>\n",
       "    <tr>\n",
       "      <th>2</th>\n",
       "      <td>8049</td>\n",
       "      <td>0.024359</td>\n",
       "      <td>-0.023965</td>\n",
       "      <td>0.018983</td>\n",
       "      <td>-0.019353</td>\n",
       "      <td>0.005989</td>\n",
       "      <td>-0.023003</td>\n",
       "      <td>-0.022178</td>\n",
       "      <td>-0.012194</td>\n",
       "      <td>0.003375</td>\n",
       "      <td>...</td>\n",
       "      <td>-0.038033</td>\n",
       "      <td>-0.052741</td>\n",
       "      <td>0.050900</td>\n",
       "      <td>0.003405</td>\n",
       "      <td>0.059715</td>\n",
       "      <td>0.016017</td>\n",
       "      <td>0.017495</td>\n",
       "      <td>0.020577</td>\n",
       "      <td>0.009315</td>\n",
       "      <td>2022-09-14 23:59:42</td>\n",
       "    </tr>\n",
       "    <tr>\n",
       "      <th>3</th>\n",
       "      <td>9934</td>\n",
       "      <td>0.029962</td>\n",
       "      <td>-0.026767</td>\n",
       "      <td>0.019995</td>\n",
       "      <td>-0.017693</td>\n",
       "      <td>0.009001</td>\n",
       "      <td>-0.032112</td>\n",
       "      <td>-0.025161</td>\n",
       "      <td>-0.013655</td>\n",
       "      <td>0.000486</td>\n",
       "      <td>...</td>\n",
       "      <td>-0.038113</td>\n",
       "      <td>-0.051800</td>\n",
       "      <td>0.053348</td>\n",
       "      <td>0.001743</td>\n",
       "      <td>0.058919</td>\n",
       "      <td>0.012928</td>\n",
       "      <td>0.013532</td>\n",
       "      <td>0.015923</td>\n",
       "      <td>0.010026</td>\n",
       "      <td>2022-09-14 23:59:42</td>\n",
       "    </tr>\n",
       "    <tr>\n",
       "      <th>4</th>\n",
       "      <td>13737</td>\n",
       "      <td>0.028262</td>\n",
       "      <td>-0.023875</td>\n",
       "      <td>0.025852</td>\n",
       "      <td>-0.024644</td>\n",
       "      <td>0.006253</td>\n",
       "      <td>-0.034173</td>\n",
       "      <td>-0.017810</td>\n",
       "      <td>-0.017602</td>\n",
       "      <td>-0.001234</td>\n",
       "      <td>...</td>\n",
       "      <td>-0.036057</td>\n",
       "      <td>-0.052525</td>\n",
       "      <td>0.056144</td>\n",
       "      <td>-0.001642</td>\n",
       "      <td>0.062478</td>\n",
       "      <td>0.016809</td>\n",
       "      <td>0.013434</td>\n",
       "      <td>0.015423</td>\n",
       "      <td>0.005995</td>\n",
       "      <td>2022-09-14 23:59:42</td>\n",
       "    </tr>\n",
       "    <tr>\n",
       "      <th>...</th>\n",
       "      <td>...</td>\n",
       "      <td>...</td>\n",
       "      <td>...</td>\n",
       "      <td>...</td>\n",
       "      <td>...</td>\n",
       "      <td>...</td>\n",
       "      <td>...</td>\n",
       "      <td>...</td>\n",
       "      <td>...</td>\n",
       "      <td>...</td>\n",
       "      <td>...</td>\n",
       "      <td>...</td>\n",
       "      <td>...</td>\n",
       "      <td>...</td>\n",
       "      <td>...</td>\n",
       "      <td>...</td>\n",
       "      <td>...</td>\n",
       "      <td>...</td>\n",
       "      <td>...</td>\n",
       "      <td>...</td>\n",
       "      <td>...</td>\n",
       "    </tr>\n",
       "    <tr>\n",
       "      <th>21838</th>\n",
       "      <td>22432</td>\n",
       "      <td>-0.028829</td>\n",
       "      <td>0.036718</td>\n",
       "      <td>0.055841</td>\n",
       "      <td>-0.013265</td>\n",
       "      <td>-0.041474</td>\n",
       "      <td>-0.038586</td>\n",
       "      <td>0.035573</td>\n",
       "      <td>0.020657</td>\n",
       "      <td>0.061384</td>\n",
       "      <td>...</td>\n",
       "      <td>-0.034968</td>\n",
       "      <td>-0.023898</td>\n",
       "      <td>-0.004210</td>\n",
       "      <td>-0.031653</td>\n",
       "      <td>0.061400</td>\n",
       "      <td>-0.024635</td>\n",
       "      <td>-0.031158</td>\n",
       "      <td>0.008509</td>\n",
       "      <td>-0.015728</td>\n",
       "      <td>2022-09-14 23:59:42</td>\n",
       "    </tr>\n",
       "    <tr>\n",
       "      <th>21839</th>\n",
       "      <td>22441</td>\n",
       "      <td>-0.008163</td>\n",
       "      <td>0.030377</td>\n",
       "      <td>-0.007110</td>\n",
       "      <td>0.044857</td>\n",
       "      <td>-0.048150</td>\n",
       "      <td>-0.052045</td>\n",
       "      <td>-0.021680</td>\n",
       "      <td>0.009681</td>\n",
       "      <td>0.035903</td>\n",
       "      <td>...</td>\n",
       "      <td>0.045597</td>\n",
       "      <td>0.014173</td>\n",
       "      <td>-0.031134</td>\n",
       "      <td>-0.022070</td>\n",
       "      <td>-0.050261</td>\n",
       "      <td>0.009182</td>\n",
       "      <td>0.016336</td>\n",
       "      <td>-0.060933</td>\n",
       "      <td>0.033865</td>\n",
       "      <td>2022-09-14 23:59:42</td>\n",
       "    </tr>\n",
       "    <tr>\n",
       "      <th>21840</th>\n",
       "      <td>21042</td>\n",
       "      <td>-0.041726</td>\n",
       "      <td>-0.016450</td>\n",
       "      <td>-0.021288</td>\n",
       "      <td>0.000353</td>\n",
       "      <td>0.025447</td>\n",
       "      <td>-0.018534</td>\n",
       "      <td>-0.018726</td>\n",
       "      <td>-0.091751</td>\n",
       "      <td>-0.029561</td>\n",
       "      <td>...</td>\n",
       "      <td>0.012627</td>\n",
       "      <td>0.013943</td>\n",
       "      <td>-0.038158</td>\n",
       "      <td>-0.011706</td>\n",
       "      <td>0.049925</td>\n",
       "      <td>0.068330</td>\n",
       "      <td>0.014162</td>\n",
       "      <td>-0.024143</td>\n",
       "      <td>0.025332</td>\n",
       "      <td>2022-09-14 23:59:42</td>\n",
       "    </tr>\n",
       "    <tr>\n",
       "      <th>21841</th>\n",
       "      <td>15349</td>\n",
       "      <td>-0.041726</td>\n",
       "      <td>-0.016450</td>\n",
       "      <td>-0.021288</td>\n",
       "      <td>0.000353</td>\n",
       "      <td>0.025447</td>\n",
       "      <td>-0.018534</td>\n",
       "      <td>-0.018726</td>\n",
       "      <td>-0.091751</td>\n",
       "      <td>-0.029561</td>\n",
       "      <td>...</td>\n",
       "      <td>0.012627</td>\n",
       "      <td>0.013943</td>\n",
       "      <td>-0.038158</td>\n",
       "      <td>-0.011706</td>\n",
       "      <td>0.049925</td>\n",
       "      <td>0.068330</td>\n",
       "      <td>0.014162</td>\n",
       "      <td>-0.024143</td>\n",
       "      <td>0.025332</td>\n",
       "      <td>2022-09-14 23:59:42</td>\n",
       "    </tr>\n",
       "    <tr>\n",
       "      <th>21842</th>\n",
       "      <td>22459</td>\n",
       "      <td>0.001488</td>\n",
       "      <td>-0.021475</td>\n",
       "      <td>0.033210</td>\n",
       "      <td>0.072369</td>\n",
       "      <td>0.018290</td>\n",
       "      <td>-0.023531</td>\n",
       "      <td>-0.039008</td>\n",
       "      <td>0.038084</td>\n",
       "      <td>0.056827</td>\n",
       "      <td>...</td>\n",
       "      <td>0.034257</td>\n",
       "      <td>-0.003471</td>\n",
       "      <td>0.023304</td>\n",
       "      <td>-0.007716</td>\n",
       "      <td>0.011160</td>\n",
       "      <td>0.015780</td>\n",
       "      <td>0.031278</td>\n",
       "      <td>-0.019664</td>\n",
       "      <td>0.013816</td>\n",
       "      <td>2022-09-14 23:59:42</td>\n",
       "    </tr>\n",
       "  </tbody>\n",
       "</table>\n",
       "<p>21843 rows × 1026 columns</p>\n",
       "</div>"
      ],
      "text/plain": [
       "      entity        f0        f1        f2        f3        f4        f5  \\\n",
       "0          1  0.031914 -0.024654  0.016778 -0.018360  0.008336 -0.033789   \n",
       "1      16260  0.038295 -0.026572  0.011134 -0.018693 -0.027163 -0.001185   \n",
       "2       8049  0.024359 -0.023965  0.018983 -0.019353  0.005989 -0.023003   \n",
       "3       9934  0.029962 -0.026767  0.019995 -0.017693  0.009001 -0.032112   \n",
       "4      13737  0.028262 -0.023875  0.025852 -0.024644  0.006253 -0.034173   \n",
       "...      ...       ...       ...       ...       ...       ...       ...   \n",
       "21838  22432 -0.028829  0.036718  0.055841 -0.013265 -0.041474 -0.038586   \n",
       "21839  22441 -0.008163  0.030377 -0.007110  0.044857 -0.048150 -0.052045   \n",
       "21840  21042 -0.041726 -0.016450 -0.021288  0.000353  0.025447 -0.018534   \n",
       "21841  15349 -0.041726 -0.016450 -0.021288  0.000353  0.025447 -0.018534   \n",
       "21842  22459  0.001488 -0.021475  0.033210  0.072369  0.018290 -0.023531   \n",
       "\n",
       "             f6        f7        f8  ...     f1015     f1016     f1017  \\\n",
       "0     -0.019724 -0.014500 -0.000028  ... -0.039011 -0.050917  0.053287   \n",
       "1      0.006900 -0.018135  0.014393  ... -0.045695 -0.068719  0.017536   \n",
       "2     -0.022178 -0.012194  0.003375  ... -0.038033 -0.052741  0.050900   \n",
       "3     -0.025161 -0.013655  0.000486  ... -0.038113 -0.051800  0.053348   \n",
       "4     -0.017810 -0.017602 -0.001234  ... -0.036057 -0.052525  0.056144   \n",
       "...         ...       ...       ...  ...       ...       ...       ...   \n",
       "21838  0.035573  0.020657  0.061384  ... -0.034968 -0.023898 -0.004210   \n",
       "21839 -0.021680  0.009681  0.035903  ...  0.045597  0.014173 -0.031134   \n",
       "21840 -0.018726 -0.091751 -0.029561  ...  0.012627  0.013943 -0.038158   \n",
       "21841 -0.018726 -0.091751 -0.029561  ...  0.012627  0.013943 -0.038158   \n",
       "21842 -0.039008  0.038084  0.056827  ...  0.034257 -0.003471  0.023304   \n",
       "\n",
       "          f1018     f1019     f1020     f1021     f1022     f1023  \\\n",
       "0      0.004578  0.056824  0.011253  0.014677  0.018925  0.009567   \n",
       "1      0.007945  0.035621  0.006835  0.049093  0.039646  0.002602   \n",
       "2      0.003405  0.059715  0.016017  0.017495  0.020577  0.009315   \n",
       "3      0.001743  0.058919  0.012928  0.013532  0.015923  0.010026   \n",
       "4     -0.001642  0.062478  0.016809  0.013434  0.015423  0.005995   \n",
       "...         ...       ...       ...       ...       ...       ...   \n",
       "21838 -0.031653  0.061400 -0.024635 -0.031158  0.008509 -0.015728   \n",
       "21839 -0.022070 -0.050261  0.009182  0.016336 -0.060933  0.033865   \n",
       "21840 -0.011706  0.049925  0.068330  0.014162 -0.024143  0.025332   \n",
       "21841 -0.011706  0.049925  0.068330  0.014162 -0.024143  0.025332   \n",
       "21842 -0.007716  0.011160  0.015780  0.031278 -0.019664  0.013816   \n",
       "\n",
       "          event_timestamp  \n",
       "0     2022-09-14 23:59:42  \n",
       "1     2022-09-14 23:59:42  \n",
       "2     2022-09-14 23:59:42  \n",
       "3     2022-09-14 23:59:42  \n",
       "4     2022-09-14 23:59:42  \n",
       "...                   ...  \n",
       "21838 2022-09-14 23:59:42  \n",
       "21839 2022-09-14 23:59:42  \n",
       "21840 2022-09-14 23:59:42  \n",
       "21841 2022-09-14 23:59:42  \n",
       "21842 2022-09-14 23:59:42  \n",
       "\n",
       "[21843 rows x 1026 columns]"
      ]
     },
     "execution_count": 13,
     "metadata": {},
     "output_type": "execute_result"
    }
   ],
   "source": [
    "%cd /home/jovyan/notebooks/feature_store\n",
    "from feast import FeatureStore\n",
    "import polars as pl\n",
    "import pandas as pd\n",
    "import time\n",
    "import os\n",
    "from datetime import datetime\n",
    "import yummy\n",
    "\n",
    "store = FeatureStore(repo_path=\".\")\n",
    "start_time = time.time()\n",
    "\n",
    "features = [f\"my_statistics_parquet:f{i}\" for i in range(0,1024)]\n",
    "\n",
    "training_df = store.get_historical_features(\n",
    "    entity_df=yummy.select_all(datetime(2022, 9, 14, 23, 59, 42)),\n",
    "    features = features,\n",
    ").to_df()\n",
    "\n",
    "print(\"--- %s seconds ---\" % (time.time() - start_time))\n",
    "training_df"
   ]
  },
  {
   "cell_type": "markdown",
   "metadata": {
    "slideshow": {
     "slide_type": "slide"
    }
   },
   "source": [
    "#### Prepare classificator training files"
   ]
  },
  {
   "cell_type": "code",
   "execution_count": 14,
   "metadata": {
    "slideshow": {
     "slide_type": "slide"
    }
   },
   "outputs": [],
   "source": [
    "import numpy as np\n",
    "from sklearn.model_selection import train_test_split\n",
    "df = pd.read_csv(\"../facebook_large/musae_facebook_target.csv\")\n",
    "\n",
    "classes = df['page_type'].unique()\n",
    "class_ids = list(range(0, len(classes)))\n",
    "class_dict = {k:v for k,v in zip(classes, class_ids)}\n",
    "df['page_type'] = [class_dict[item] for item in df['page_type']]\n",
    "\n",
    "train_filename = \"fb_classification_train.txt\"\n",
    "test_filename = \"fb_classification_test.txt\"\n",
    "\n",
    "train, test = train_test_split(df, test_size=0.2)\n",
    "\n",
    "training_df=training_df.astype({\"entity\": \"int32\"})\n",
    "\n",
    "entities = training_df[\"entity\"].to_numpy()\n",
    "\n",
    "train = train[[\"id\",\"page_type\"]].to_numpy()\n",
    "test = test[[\"id\",\"page_type\"]].to_numpy()\n",
    "\n",
    "df_embeddings=training_df.drop(columns=[\"event_timestamp\"])\\\n",
    "    .rename(columns={ f\"f{i}\":i+2 for i in range(1024) })\\\n",
    "    .rename(columns={\"entity\": 0}).set_index(0)\n",
    "\n",
    "valid_idx = df_embeddings.index.to_numpy()\n",
    "train = np.array(train[np.isin(train[:,0], valid_idx) & np.isin(train[:,1], valid_idx)])\n",
    "test = np.array([t for t in test if (t[0] in valid_idx) and (t[1] in valid_idx)])"
   ]
  },
  {
   "cell_type": "markdown",
   "metadata": {
    "slideshow": {
     "slide_type": "slide"
    }
   },
   "source": [
    "## Traininig a classifier"
   ]
  },
  {
   "cell_type": "code",
   "execution_count": 15,
   "metadata": {
    "slideshow": {
     "slide_type": "slide"
    }
   },
   "outputs": [
    {
     "name": "stderr",
     "output_type": "stream",
     "text": [
      "100%|███████████████████████████████████████████████████████████████████████████████████████████████████████████████████████████████████████████| 20/20 [00:09<00:00,  2.19it/s]"
     ]
    },
    {
     "name": "stdout",
     "output_type": "stream",
     "text": [
      " epochs: 20, micro f1: 0.9171151776103337, macro f1:0.9171222162436594\n"
     ]
    },
    {
     "name": "stderr",
     "output_type": "stream",
     "text": [
      "\n"
     ]
    }
   ],
   "source": [
    "from sklearn.linear_model import SGDClassifier\n",
    "from sklearn.metrics import f1_score\n",
    "from tqdm import tqdm\n",
    "epochs=[20]\n",
    "batch_size = 256\n",
    "test_batch_size = 1000\n",
    "embeddings=df_embeddings\n",
    "y_train = train[:, 1]\n",
    "y_test = test[:, 1]\n",
    "\n",
    "clf = SGDClassifier(random_state=0, loss='log_loss', alpha=0.0001)\n",
    "for e in tqdm(range(0, max(epochs))):\n",
    "    for idx in range(0,train.shape[0],batch_size):\n",
    "        ex=train[idx:min(idx+batch_size,train.shape[0]),:]\n",
    "        ex_emb_in = embeddings.loc[ex[:,0]].to_numpy()\n",
    "        ex_y = y_train[idx:min(idx+batch_size,train.shape[0])]\n",
    "        clf.partial_fit(ex_emb_in, ex_y, classes=[0,1,2,3])\n",
    "    \n",
    "    if e+1 in epochs:\n",
    "        acc = 0.0\n",
    "        y_pred = []\n",
    "        for n, idx in enumerate(range(0,test.shape[0],test_batch_size)):\n",
    "            ex=test[idx:min(idx+test_batch_size,train.shape[0]),:]\n",
    "            ex_emb_in = embeddings.loc[ex[:,0]].to_numpy()\n",
    "            pred = clf.predict_proba(ex_emb_in)\n",
    "            classes = np.argmax(pred, axis=1)\n",
    "            y_pred.extend(classes)\n",
    "\n",
    "        f1_micro = f1_score(y_test, y_pred, average='micro')\n",
    "        f1_macro = f1_score(y_test, y_pred, average='macro')\n",
    "        print(' epochs: {}, micro f1: {}, macro f1:{}'.format( e+1, f1_micro, f1_macro))"
   ]
  }
 ],
 "metadata": {
  "celltoolbar": "Slideshow",
  "jupytext": {
   "formats": "ipynb"
  },
  "kernelspec": {
   "display_name": "Python 3 (ipykernel)",
   "language": "python",
   "name": "python3"
  },
  "language_info": {
   "codemirror_mode": {
    "name": "ipython",
    "version": 3
   },
   "file_extension": ".py",
   "mimetype": "text/x-python",
   "name": "python",
   "nbconvert_exporter": "python",
   "pygments_lexer": "ipython3",
   "version": "3.9.13"
  },
  "rise": {
   "autolaunch": true,
   "slideNumber": "c/t"
  }
 },
 "nbformat": 4,
 "nbformat_minor": 4
}
